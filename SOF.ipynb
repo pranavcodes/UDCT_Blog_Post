{
 "cells": [
  {
   "cell_type": "markdown",
   "metadata": {},
   "source": [
    "# Udacity Data Scientist Nanodegree - Project 1 (Data Science Blog Post)\n",
    "\n",
    "### Analyzing Stack Overflow Survey Data\n",
    "\n",
    "Stack Overflow Survey Data 2019 has been taken for our analysis. Preliminary analysis and visualisation have been used to answer a few question regarding the data. Only developers' data have taken for our analysis.\n"
   ]
  },
  {
   "cell_type": "markdown",
   "metadata": {},
   "source": [
    "#### Questions\n",
    "\n",
    "    1). Which country has the highest job satisfaction for developers ?\n",
    "    2). Is there the difference in job satisfaction between developers whose undergraduate major is IT-related an those who are not ?\n",
    "    3). Do developers who contribute to open source have higher salary than those who are not?"
   ]
  },
  {
   "cell_type": "code",
   "execution_count": 20,
   "metadata": {
    "scrolled": true
   },
   "outputs": [
    {
     "data": {
      "text/html": [
       "<div>\n",
       "<style scoped>\n",
       "    .dataframe tbody tr th:only-of-type {\n",
       "        vertical-align: middle;\n",
       "    }\n",
       "\n",
       "    .dataframe tbody tr th {\n",
       "        vertical-align: top;\n",
       "    }\n",
       "\n",
       "    .dataframe thead th {\n",
       "        text-align: right;\n",
       "    }\n",
       "</style>\n",
       "<table border=\"1\" class=\"dataframe\">\n",
       "  <thead>\n",
       "    <tr style=\"text-align: right;\">\n",
       "      <th></th>\n",
       "      <th>Respondent</th>\n",
       "      <th>MainBranch</th>\n",
       "      <th>Hobbyist</th>\n",
       "      <th>OpenSourcer</th>\n",
       "      <th>OpenSource</th>\n",
       "      <th>Employment</th>\n",
       "      <th>Country</th>\n",
       "      <th>Student</th>\n",
       "      <th>EdLevel</th>\n",
       "      <th>UndergradMajor</th>\n",
       "      <th>...</th>\n",
       "      <th>WelcomeChange</th>\n",
       "      <th>SONewContent</th>\n",
       "      <th>Age</th>\n",
       "      <th>Gender</th>\n",
       "      <th>Trans</th>\n",
       "      <th>Sexuality</th>\n",
       "      <th>Ethnicity</th>\n",
       "      <th>Dependents</th>\n",
       "      <th>SurveyLength</th>\n",
       "      <th>SurveyEase</th>\n",
       "    </tr>\n",
       "  </thead>\n",
       "  <tbody>\n",
       "    <tr>\n",
       "      <th>0</th>\n",
       "      <td>1</td>\n",
       "      <td>I am a student who is learning to code</td>\n",
       "      <td>Yes</td>\n",
       "      <td>Never</td>\n",
       "      <td>The quality of OSS and closed source software ...</td>\n",
       "      <td>Not employed, and not looking for work</td>\n",
       "      <td>United Kingdom</td>\n",
       "      <td>No</td>\n",
       "      <td>Primary/elementary school</td>\n",
       "      <td>NaN</td>\n",
       "      <td>...</td>\n",
       "      <td>Just as welcome now as I felt last year</td>\n",
       "      <td>Tech articles written by other developers;Indu...</td>\n",
       "      <td>14.0</td>\n",
       "      <td>Man</td>\n",
       "      <td>No</td>\n",
       "      <td>Straight / Heterosexual</td>\n",
       "      <td>NaN</td>\n",
       "      <td>No</td>\n",
       "      <td>Appropriate in length</td>\n",
       "      <td>Neither easy nor difficult</td>\n",
       "    </tr>\n",
       "    <tr>\n",
       "      <th>1</th>\n",
       "      <td>2</td>\n",
       "      <td>I am a student who is learning to code</td>\n",
       "      <td>No</td>\n",
       "      <td>Less than once per year</td>\n",
       "      <td>The quality of OSS and closed source software ...</td>\n",
       "      <td>Not employed, but looking for work</td>\n",
       "      <td>Bosnia and Herzegovina</td>\n",
       "      <td>Yes, full-time</td>\n",
       "      <td>Secondary school (e.g. American high school, G...</td>\n",
       "      <td>NaN</td>\n",
       "      <td>...</td>\n",
       "      <td>Just as welcome now as I felt last year</td>\n",
       "      <td>Tech articles written by other developers;Indu...</td>\n",
       "      <td>19.0</td>\n",
       "      <td>Man</td>\n",
       "      <td>No</td>\n",
       "      <td>Straight / Heterosexual</td>\n",
       "      <td>NaN</td>\n",
       "      <td>No</td>\n",
       "      <td>Appropriate in length</td>\n",
       "      <td>Neither easy nor difficult</td>\n",
       "    </tr>\n",
       "    <tr>\n",
       "      <th>2</th>\n",
       "      <td>3</td>\n",
       "      <td>I am not primarily a developer, but I write co...</td>\n",
       "      <td>Yes</td>\n",
       "      <td>Never</td>\n",
       "      <td>The quality of OSS and closed source software ...</td>\n",
       "      <td>Employed full-time</td>\n",
       "      <td>Thailand</td>\n",
       "      <td>No</td>\n",
       "      <td>Bachelor’s degree (BA, BS, B.Eng., etc.)</td>\n",
       "      <td>Web development or web design</td>\n",
       "      <td>...</td>\n",
       "      <td>Just as welcome now as I felt last year</td>\n",
       "      <td>Tech meetups or events in your area;Courses on...</td>\n",
       "      <td>28.0</td>\n",
       "      <td>Man</td>\n",
       "      <td>No</td>\n",
       "      <td>Straight / Heterosexual</td>\n",
       "      <td>NaN</td>\n",
       "      <td>Yes</td>\n",
       "      <td>Appropriate in length</td>\n",
       "      <td>Neither easy nor difficult</td>\n",
       "    </tr>\n",
       "    <tr>\n",
       "      <th>3</th>\n",
       "      <td>4</td>\n",
       "      <td>I am a developer by profession</td>\n",
       "      <td>No</td>\n",
       "      <td>Never</td>\n",
       "      <td>The quality of OSS and closed source software ...</td>\n",
       "      <td>Employed full-time</td>\n",
       "      <td>United States</td>\n",
       "      <td>No</td>\n",
       "      <td>Bachelor’s degree (BA, BS, B.Eng., etc.)</td>\n",
       "      <td>Computer science, computer engineering, or sof...</td>\n",
       "      <td>...</td>\n",
       "      <td>Just as welcome now as I felt last year</td>\n",
       "      <td>Tech articles written by other developers;Indu...</td>\n",
       "      <td>22.0</td>\n",
       "      <td>Man</td>\n",
       "      <td>No</td>\n",
       "      <td>Straight / Heterosexual</td>\n",
       "      <td>White or of European descent</td>\n",
       "      <td>No</td>\n",
       "      <td>Appropriate in length</td>\n",
       "      <td>Easy</td>\n",
       "    </tr>\n",
       "    <tr>\n",
       "      <th>4</th>\n",
       "      <td>5</td>\n",
       "      <td>I am a developer by profession</td>\n",
       "      <td>Yes</td>\n",
       "      <td>Once a month or more often</td>\n",
       "      <td>OSS is, on average, of HIGHER quality than pro...</td>\n",
       "      <td>Employed full-time</td>\n",
       "      <td>Ukraine</td>\n",
       "      <td>No</td>\n",
       "      <td>Bachelor’s degree (BA, BS, B.Eng., etc.)</td>\n",
       "      <td>Computer science, computer engineering, or sof...</td>\n",
       "      <td>...</td>\n",
       "      <td>Just as welcome now as I felt last year</td>\n",
       "      <td>Tech meetups or events in your area;Courses on...</td>\n",
       "      <td>30.0</td>\n",
       "      <td>Man</td>\n",
       "      <td>No</td>\n",
       "      <td>Straight / Heterosexual</td>\n",
       "      <td>White or of European descent;Multiracial</td>\n",
       "      <td>No</td>\n",
       "      <td>Appropriate in length</td>\n",
       "      <td>Easy</td>\n",
       "    </tr>\n",
       "  </tbody>\n",
       "</table>\n",
       "<p>5 rows × 85 columns</p>\n",
       "</div>"
      ],
      "text/plain": [
       "   Respondent                                         MainBranch Hobbyist  \\\n",
       "0           1             I am a student who is learning to code      Yes   \n",
       "1           2             I am a student who is learning to code       No   \n",
       "2           3  I am not primarily a developer, but I write co...      Yes   \n",
       "3           4                     I am a developer by profession       No   \n",
       "4           5                     I am a developer by profession      Yes   \n",
       "\n",
       "                  OpenSourcer  \\\n",
       "0                       Never   \n",
       "1     Less than once per year   \n",
       "2                       Never   \n",
       "3                       Never   \n",
       "4  Once a month or more often   \n",
       "\n",
       "                                          OpenSource  \\\n",
       "0  The quality of OSS and closed source software ...   \n",
       "1  The quality of OSS and closed source software ...   \n",
       "2  The quality of OSS and closed source software ...   \n",
       "3  The quality of OSS and closed source software ...   \n",
       "4  OSS is, on average, of HIGHER quality than pro...   \n",
       "\n",
       "                               Employment                 Country  \\\n",
       "0  Not employed, and not looking for work          United Kingdom   \n",
       "1      Not employed, but looking for work  Bosnia and Herzegovina   \n",
       "2                      Employed full-time                Thailand   \n",
       "3                      Employed full-time           United States   \n",
       "4                      Employed full-time                 Ukraine   \n",
       "\n",
       "          Student                                            EdLevel  \\\n",
       "0              No                          Primary/elementary school   \n",
       "1  Yes, full-time  Secondary school (e.g. American high school, G...   \n",
       "2              No           Bachelor’s degree (BA, BS, B.Eng., etc.)   \n",
       "3              No           Bachelor’s degree (BA, BS, B.Eng., etc.)   \n",
       "4              No           Bachelor’s degree (BA, BS, B.Eng., etc.)   \n",
       "\n",
       "                                      UndergradMajor  ...  \\\n",
       "0                                                NaN  ...   \n",
       "1                                                NaN  ...   \n",
       "2                      Web development or web design  ...   \n",
       "3  Computer science, computer engineering, or sof...  ...   \n",
       "4  Computer science, computer engineering, or sof...  ...   \n",
       "\n",
       "                             WelcomeChange  \\\n",
       "0  Just as welcome now as I felt last year   \n",
       "1  Just as welcome now as I felt last year   \n",
       "2  Just as welcome now as I felt last year   \n",
       "3  Just as welcome now as I felt last year   \n",
       "4  Just as welcome now as I felt last year   \n",
       "\n",
       "                                        SONewContent   Age Gender Trans  \\\n",
       "0  Tech articles written by other developers;Indu...  14.0    Man    No   \n",
       "1  Tech articles written by other developers;Indu...  19.0    Man    No   \n",
       "2  Tech meetups or events in your area;Courses on...  28.0    Man    No   \n",
       "3  Tech articles written by other developers;Indu...  22.0    Man    No   \n",
       "4  Tech meetups or events in your area;Courses on...  30.0    Man    No   \n",
       "\n",
       "                 Sexuality                                 Ethnicity  \\\n",
       "0  Straight / Heterosexual                                       NaN   \n",
       "1  Straight / Heterosexual                                       NaN   \n",
       "2  Straight / Heterosexual                                       NaN   \n",
       "3  Straight / Heterosexual              White or of European descent   \n",
       "4  Straight / Heterosexual  White or of European descent;Multiracial   \n",
       "\n",
       "  Dependents           SurveyLength                  SurveyEase  \n",
       "0         No  Appropriate in length  Neither easy nor difficult  \n",
       "1         No  Appropriate in length  Neither easy nor difficult  \n",
       "2        Yes  Appropriate in length  Neither easy nor difficult  \n",
       "3         No  Appropriate in length                        Easy  \n",
       "4         No  Appropriate in length                        Easy  \n",
       "\n",
       "[5 rows x 85 columns]"
      ]
     },
     "execution_count": 20,
     "metadata": {},
     "output_type": "execute_result"
    }
   ],
   "source": [
    "import numpy as np\n",
    "import pandas as pd\n",
    "import matplotlib.pyplot as plt\n",
    "from matplotlib.colors import ListedColormap\n",
    "from IPython import display\n",
    "import seaborn as sns\n",
    "%matplotlib inline\n",
    "\n",
    "df = pd.read_csv(\"survey_results_public.csv\")\n",
    "df.head()"
   ]
  },
  {
   "cell_type": "code",
   "execution_count": 15,
   "metadata": {},
   "outputs": [
    {
     "name": "stderr",
     "output_type": "stream",
     "text": [
      "<ipython-input-15-077c7cc9f096>:5: SettingWithCopyWarning: \n",
      "A value is trying to be set on a copy of a slice from a DataFrame.\n",
      "Try using .loc[row_indexer,col_indexer] = value instead\n",
      "\n",
      "See the caveats in the documentation: https://pandas.pydata.org/pandas-docs/stable/user_guide/indexing.html#returning-a-view-versus-a-copy\n",
      "  developer_data['JobSat'] = developer_data['JobSat'].fillna(developer_data['JobSat'].mode()[0])\n",
      "<ipython-input-15-077c7cc9f096>:9: SettingWithCopyWarning: \n",
      "A value is trying to be set on a copy of a slice from a DataFrame.\n",
      "Try using .loc[row_indexer,col_indexer] = value instead\n",
      "\n",
      "See the caveats in the documentation: https://pandas.pydata.org/pandas-docs/stable/user_guide/indexing.html#returning-a-view-versus-a-copy\n",
      "  developer_data['ConvertedComp'] = developer_data.apply(lambda x: salary_per_country[x['Country']] if pd.isnull(x['ConvertedComp']) else x['ConvertedComp'], axis=1)\n"
     ]
    }
   ],
   "source": [
    "# Filter the data so it only contains the survey result by the developer\n",
    "developer_data = df[df['MainBranch'] == 'I am a developer by profession']\n",
    "\n",
    "# Fill the N/A values in JobSat column with the mode\n",
    "developer_data['JobSat'] = developer_data['JobSat'].fillna(developer_data['JobSat'].mode()[0])\n",
    "\n",
    "# Fill the N/A values in ConvertedComp column with the mean of each country\n",
    "salary_per_country = developer_data.groupby('Country')['ConvertedComp'].mean()\n",
    "developer_data['ConvertedComp'] = developer_data.apply(lambda x: salary_per_country[x['Country']] if pd.isnull(x['ConvertedComp']) else x['ConvertedComp'], axis=1)\n",
    "developer_data = developer_data.dropna(subset=['ConvertedComp'])"
   ]
  },
  {
   "cell_type": "raw",
   "metadata": {},
   "source": [
    "In order to answer the questions, these are the things we did in this data preparation step:\n",
    "\n",
    "Filtered the data so it only contains the developer responses.\n",
    "Because JobSat column is a categorical data, we are going to fill the N/A values with the mode.\n",
    "We have the differences in salary range (that really depends on which country the developers live in), so we are going to fill the N/A values in ConvertedComp with the average salary of the developer's Country. Then we drop the remaining N/A values (19 rows), it happens because there are countries with average ConvertedComp = NaN (all of the respondents from that country didn't fill the salary form).\n",
    "Set the JobSat and OpenSourcer column into categorical data type."
   ]
  },
  {
   "cell_type": "markdown",
   "metadata": {},
   "source": [
    "#### Data Exploration\n",
    "\n",
    "#### 1. Country with the highest jobs satisfaction"
   ]
  },
  {
   "cell_type": "code",
   "execution_count": 16,
   "metadata": {},
   "outputs": [],
   "source": [
    "# Set the JobSat and OpenSourcerr column into categorical data type so it will be sorted with the right order (ordinal data)\n",
    "developer_data['JobSat'] = pd.Categorical(developer_data['JobSat'], categories=['Very dissatisfied',\n",
    "                                                                                'Slightly dissatisfied',\n",
    "                                                                                'Neither satisfied nor dissatisfied',\n",
    "                                                                                'Slightly satisfied',\n",
    "                                                                                'Very satisfied'], ordered=True)\n",
    "\n",
    "developer_data['OpenSourcer'] = pd.Categorical(developer_data['OpenSourcer'], categories=['Never',\n",
    "                                                                                'Less than once per year',\n",
    "                                                                                'Less than once a month but more than once per year',\n",
    "                                                                                'Once a month or more often'], ordered=True)"
   ]
  },
  {
   "cell_type": "code",
   "execution_count": 18,
   "metadata": {},
   "outputs": [],
   "source": [
    "# Filtered the data so it only contains the survey result from the top 30 country based on the total respondents\n",
    "top_30_country = list(developer_data['Country'].value_counts().head(30).index)\n",
    "filtered_developer_data = developer_data[developer_data['Country'].isin(top_30_country)]\n",
    "\n",
    "# Aggregate the data so we can visualize it later\n",
    "aggregated_data = filtered_developer_data.groupby(['Country','JobSat'], as_index=False)['Respondent'].count()\n",
    "\n",
    "# Add column percentage\n",
    "total_respondents_per_country = filtered_developer_data['Country'].value_counts()\n",
    "\n",
    "aggregated_data['Respondent Percentage'] = aggregated_data \\\n",
    "                                           .apply(lambda x: x['Respondent'] / total_respondents_per_country[x['Country']], axis=1) \\\n",
    "                                           .round(3)\n",
    "\n",
    "# Pivot the data\n",
    "aggregated_data = aggregated_data[['Country', 'JobSat', 'Respondent Percentage']]\n",
    "pivoted_data = pd.pivot_table(aggregated_data, values='Respondent Percentage', index='Country', columns='JobSat') \\\n",
    "                 .sort_values('Very satisfied', ascending=False)"
   ]
  },
  {
   "cell_type": "raw",
   "metadata": {},
   "source": [
    "Because the data contains the respondent from more than 170 countries, we narrow it down to only 30 countries in terms of its total respondents. We did it because we want to gather the data from as much respondents as possible for each country, and each country in the top 30 has the minimum of 400 respondents which we considered enough."
   ]
  },
  {
   "cell_type": "code",
   "execution_count": 21,
   "metadata": {},
   "outputs": [
    {
     "data": {
      "image/png": "[encoded data removed]",
      "text/plain": [
       "<Figure size 936x360 with 1 Axes>"
      ]
     },
     "metadata": {
      "needs_background": "light"
     },
     "output_type": "display_data"
    }
   ],
   "source": [
    "# Visualize the data\n",
    "pivoted_data.plot(kind='bar', \n",
    "                  stacked=True, \n",
    "                  colormap=ListedColormap(sns.color_palette(\"ch:2.5,-.2,dark=.3\")),\n",
    "                  figsize=(13,5))\n",
    "plt.legend(loc=\"upper left\", bbox_to_anchor=(1,1.02))\n",
    "plt.ylabel('Satisfaction Percentages')\n",
    "plt.title('Job Satisfaction Percentage per Country')\n",
    "plt.show()"
   ]
  },
  {
   "cell_type": "raw",
   "metadata": {},
   "source": [
    "The data shows that United States is the best country in terms of job satisfaction of its employees with almost 40% of the developers feel very satisfied, and from the visualization above we know that 5 of top 10 countries with the highest job satisfaction are located in Europe."
   ]
  },
  {
   "cell_type": "markdown",
   "metadata": {},
   "source": [
    "#### 2. Undergraduate Major with job satisfaction"
   ]
  },
  {
   "cell_type": "code",
   "execution_count": 22,
   "metadata": {},
   "outputs": [
    {
     "data": {
      "text/plain": [
       "IT Related        0.708178\n",
       "Not IT Related    0.291822\n",
       "Name: Major, dtype: float64"
      ]
     },
     "execution_count": 22,
     "metadata": {},
     "output_type": "execute_result"
    }
   ],
   "source": [
    "# Create a new columns to flag each respondent if their major is related or not\n",
    "def check_major(value):\n",
    "    '''\n",
    "    input: the value of each row in the selected column\n",
    "    output: the mapped value based on the rule we made in this function\n",
    "    '''\n",
    "\n",
    "    if value == 'Computer science, computer engineering, or software engineering' \\\n",
    "    or value == 'Information systems, information technology, or system administration' \\\n",
    "    or value == 'Web development or web design':\n",
    "        return 'IT Related'\n",
    "    return 'Not IT Related'\n",
    "\n",
    "developer_data['Major'] = developer_data['UndergradMajor'].apply(check_major)\n",
    "\n",
    "developer_data['Major'].value_counts(normalize=True)"
   ]
  },
  {
   "cell_type": "raw",
   "metadata": {},
   "source": [
    "In order to answer this question, we need to cateogrize the UndergradMajor column into two types (IT Related and Not IT Related) first. It shows that 29% of developers do not have IT-related background (their undergraduate major)."
   ]
  },
  {
   "cell_type": "code",
   "execution_count": 23,
   "metadata": {},
   "outputs": [],
   "source": [
    "# Aggregate the data so we know how many respondents in each major (IT related or not IT related)\n",
    "aggregated_data = developer_data.groupby(['Major','JobSat'], as_index=False)['Respondent'].count()\n",
    "\n",
    "# Add column percentage\n",
    "total_respondents_per_major = developer_data['Major'].value_counts()\n",
    "\n",
    "aggregated_data['Respondent Percentage'] = aggregated_data \\\n",
    "                                           .apply(lambda x: x['Respondent'] / total_respondents_per_major[x['Major']], axis=1) \\\n",
    "                                           .round(4)\n",
    "\n",
    "# Pivot the data\n",
    "aggregated_data = aggregated_data[['Major', 'JobSat', 'Respondent Percentage']]\n",
    "pivoted_data = pd.pivot_table(aggregated_data, values='Respondent Percentage', index='Major', columns='JobSat')"
   ]
  },
  {
   "cell_type": "raw",
   "metadata": {},
   "source": [
    "Then we calculate the percentages of each value in JobSat to measure the job satisfaction for each major type."
   ]
  },
  {
   "cell_type": "code",
   "execution_count": 24,
   "metadata": {},
   "outputs": [
    {
     "data": {
      "image/png": "[encoded data removed]",
      "text/plain": [
       "<Figure size 936x360 with 1 Axes>"
      ]
     },
     "metadata": {
      "needs_background": "light"
     },
     "output_type": "display_data"
    }
   ],
   "source": [
    "# Visualize the data\n",
    "pivoted_data.plot(kind='barh', \n",
    "                  stacked=True, \n",
    "                  colormap=ListedColormap(sns.color_palette(\"ch:2.5,-.2,dark=.3\")),\n",
    "                  figsize=(13,5))\n",
    "plt.legend(loc=\"upper left\", bbox_to_anchor=(1,1.02))\n",
    "plt.xlabel('Satisfaction Percentages')\n",
    "plt.title('Job Satisfaction Percentage by Undergraduate Major')\n",
    "plt.show()"
   ]
  },
  {
   "cell_type": "code",
   "execution_count": 25,
   "metadata": {},
   "outputs": [
    {
     "data": {
      "text/html": [
       "<div>\n",
       "<style scoped>\n",
       "    .dataframe tbody tr th:only-of-type {\n",
       "        vertical-align: middle;\n",
       "    }\n",
       "\n",
       "    .dataframe tbody tr th {\n",
       "        vertical-align: top;\n",
       "    }\n",
       "\n",
       "    .dataframe thead th {\n",
       "        text-align: right;\n",
       "    }\n",
       "</style>\n",
       "<table border=\"1\" class=\"dataframe\">\n",
       "  <thead>\n",
       "    <tr style=\"text-align: right;\">\n",
       "      <th>JobSat</th>\n",
       "      <th>Very dissatisfied</th>\n",
       "      <th>Slightly dissatisfied</th>\n",
       "      <th>Neither satisfied nor dissatisfied</th>\n",
       "      <th>Slightly satisfied</th>\n",
       "      <th>Very satisfied</th>\n",
       "    </tr>\n",
       "    <tr>\n",
       "      <th>Major</th>\n",
       "      <th></th>\n",
       "      <th></th>\n",
       "      <th></th>\n",
       "      <th></th>\n",
       "      <th></th>\n",
       "    </tr>\n",
       "  </thead>\n",
       "  <tbody>\n",
       "    <tr>\n",
       "      <th>IT Related</th>\n",
       "      <td>0.0661</td>\n",
       "      <td>0.1493</td>\n",
       "      <td>0.1239</td>\n",
       "      <td>0.3641</td>\n",
       "      <td>0.2966</td>\n",
       "    </tr>\n",
       "    <tr>\n",
       "      <th>Not IT Related</th>\n",
       "      <td>0.0664</td>\n",
       "      <td>0.1363</td>\n",
       "      <td>0.1070</td>\n",
       "      <td>0.3527</td>\n",
       "      <td>0.3376</td>\n",
       "    </tr>\n",
       "  </tbody>\n",
       "</table>\n",
       "</div>"
      ],
      "text/plain": [
       "JobSat          Very dissatisfied  Slightly dissatisfied  \\\n",
       "Major                                                      \n",
       "IT Related                 0.0661                 0.1493   \n",
       "Not IT Related             0.0664                 0.1363   \n",
       "\n",
       "JobSat          Neither satisfied nor dissatisfied  Slightly satisfied  \\\n",
       "Major                                                                    \n",
       "IT Related                                  0.1239              0.3641   \n",
       "Not IT Related                              0.1070              0.3527   \n",
       "\n",
       "JobSat          Very satisfied  \n",
       "Major                           \n",
       "IT Related              0.2966  \n",
       "Not IT Related          0.3376  "
      ]
     },
     "execution_count": 25,
     "metadata": {},
     "output_type": "execute_result"
    }
   ],
   "source": [
    "pivoted_data"
   ]
  },
  {
   "cell_type": "raw",
   "metadata": {},
   "source": [
    "From the visualization and table above, we found that developers whose undergraduate major is not IT-related have slightly better job satisfaction compared those who have IT related background with 34% and 30% respondents feel very satisfied respectively."
   ]
  },
  {
   "cell_type": "markdown",
   "metadata": {},
   "source": [
    "#### 3. Compensation and contributing to open source"
   ]
  },
  {
   "cell_type": "code",
   "execution_count": 26,
   "metadata": {},
   "outputs": [
    {
     "data": {
      "text/html": [
       "<div>\n",
       "<style scoped>\n",
       "    .dataframe tbody tr th:only-of-type {\n",
       "        vertical-align: middle;\n",
       "    }\n",
       "\n",
       "    .dataframe tbody tr th {\n",
       "        vertical-align: top;\n",
       "    }\n",
       "\n",
       "    .dataframe thead th {\n",
       "        text-align: right;\n",
       "    }\n",
       "</style>\n",
       "<table border=\"1\" class=\"dataframe\">\n",
       "  <thead>\n",
       "    <tr style=\"text-align: right;\">\n",
       "      <th></th>\n",
       "      <th>OpenSourcer</th>\n",
       "      <th>ConvertedComp</th>\n",
       "    </tr>\n",
       "  </thead>\n",
       "  <tbody>\n",
       "    <tr>\n",
       "      <th>0</th>\n",
       "      <td>Never</td>\n",
       "      <td>117254.369170</td>\n",
       "    </tr>\n",
       "    <tr>\n",
       "      <th>1</th>\n",
       "      <td>Less than once per year</td>\n",
       "      <td>120802.882927</td>\n",
       "    </tr>\n",
       "    <tr>\n",
       "      <th>2</th>\n",
       "      <td>Less than once a month but more than once per ...</td>\n",
       "      <td>123194.248789</td>\n",
       "    </tr>\n",
       "    <tr>\n",
       "      <th>3</th>\n",
       "      <td>Once a month or more often</td>\n",
       "      <td>123881.913894</td>\n",
       "    </tr>\n",
       "  </tbody>\n",
       "</table>\n",
       "</div>"
      ],
      "text/plain": [
       "                                         OpenSourcer  ConvertedComp\n",
       "0                                              Never  117254.369170\n",
       "1                            Less than once per year  120802.882927\n",
       "2  Less than once a month but more than once per ...  123194.248789\n",
       "3                         Once a month or more often  123881.913894"
      ]
     },
     "execution_count": 26,
     "metadata": {},
     "output_type": "execute_result"
    }
   ],
   "source": [
    "# Aggregate the data\n",
    "comp_per_category = developer_data.groupby('OpenSourcer', as_index=False)['ConvertedComp'].mean()\n",
    "\n",
    "comp_per_category"
   ]
  },
  {
   "cell_type": "code",
   "execution_count": 27,
   "metadata": {},
   "outputs": [
    {
     "data": {
      "image/png": "[encoded data removed]",
      "text/plain": [
       "<Figure size 1152x576 with 1 Axes>"
      ]
     },
     "metadata": {
      "needs_background": "light"
     },
     "output_type": "display_data"
    }
   ],
   "source": [
    "# Visualize the data\n",
    "plt.figure(figsize=(16, 8))\n",
    "sns.barplot(data=comp_per_category, x='OpenSourcer', y='ConvertedComp', palette=sns.color_palette(\"ch:2.5,-.2,dark=.3\"))\n",
    "plt.ylim(90000,140000)\n",
    "plt.title('Total Salary and Frequency of Contributing to Open Source')\n",
    "plt.ylabel('Total Salary (USD / year)')\n",
    "plt.xlabel('Contributing to Open Source Frequency')\n",
    "plt.show()"
   ]
  },
  {
   "cell_type": "markdown",
   "metadata": {},
   "source": [
    "We can see from the data that the more frequent the developers contribute to open source, the higher their salary. People who contribute to open source once a month or more have 7% higher salary than those who never contribute.\n",
    "\n",
    "The correlation between those two variables does not mean if we want the higher salary, we have to start contributing to open source. We need to remember one thing, correlation does not imply causation. One thing that seems reasonable about those correlation are, you need to have some sort of skills if you want to contribute to open source (I did not mean that a newbie in programming could not contribute but we can agree that the more experienced developers must be better at doing that), thus make you a more skilled and better developers, and the more skilled someone, the higher their salary.\n",
    "\n"
   ]
  },
  {
   "cell_type": "markdown",
   "metadata": {},
   "source": [
    "### Conclusion\n",
    "In this notebook we did the analysis about developers from Stack Overflow Survey Data 2019, and these are the summary of what we have done.\n",
    "\n",
    "\n",
    "1). We measure the job satisfaction level for each country and found that United States has the highest job satisfaction level in the world, and 5 of top 10 countries with the highest job satisfaction level are located in Europe.\n",
    "\n",
    "\n",
    "2). We then looked at their undergraduate major and found that developers whose undergraduate major is not IT-related have slightly better job satisfaction.\n",
    "\n",
    "\n",
    "3). Finally, we found that developers who contribute more to the open source have the higher salary."
   ]
  },
  {
   "cell_type": "code",
   "execution_count": null,
   "metadata": {},
   "outputs": [],
   "source": []
  }
 ],
 "metadata": {
  "kernelspec": {
   "display_name": "Python 3",
   "language": "python",
   "name": "python3"
  },
  "language_info": {
   "codemirror_mode": {
    "name": "ipython",
    "version": 3
   },
   "file_extension": ".py",
   "mimetype": "text/x-python",
   "name": "python",
   "nbconvert_exporter": "python",
   "pygments_lexer": "ipython3",
   "version": "3.8.1"
  }
 },
 "nbformat": 4,
 "nbformat_minor": 4
}
